{
 "cells": [
  {
   "cell_type": "code",
   "execution_count": 1,
   "id": "c586131d",
   "metadata": {},
   "outputs": [
    {
     "name": "stderr",
     "output_type": "stream",
     "text": [
      "[nltk_data] Downloading package reuters to\n",
      "[nltk_data]     C:\\Users\\CharismaStore.ir\\AppData\\Roaming\\nltk_data...\n",
      "[nltk_data]   Package reuters is already up-to-date!\n",
      "[nltk_data] Downloading package punkt to\n",
      "[nltk_data]     C:\\Users\\CharismaStore.ir\\AppData\\Roaming\\nltk_data...\n",
      "[nltk_data]   Package punkt is already up-to-date!\n",
      "[nltk_data] Downloading package stopwords to\n",
      "[nltk_data]     C:\\Users\\CharismaStore.ir\\AppData\\Roaming\\nltk_data...\n",
      "[nltk_data]   Package stopwords is already up-to-date!\n"
     ]
    },
    {
     "name": "stdout",
     "output_type": "stream",
     "text": [
      "('mln', 'dlrs'): 4476\n",
      "('vs', 'mln'): 3948\n",
      "('mln', 'vs'): 3919\n",
      "('cts', 'vs'): 3313\n",
      "('cts', 'net'): 2196\n",
      "('vs', 'cts'): 1933\n",
      "('vs', 'loss'): 1789\n",
      "('billion', 'dlrs'): 1747\n",
      "('net', 'vs'): 1579\n",
      "('revs', 'mln'): 1549\n",
      "\n",
      "Words following 'market':\n",
      "[('conditions', 63), ('prices', 61), ('share', 57), ('rates', 55), ('given', 52)]\n"
     ]
    }
   ],
   "source": [
    "import nltk\n",
    "from nltk.corpus import reuters\n",
    "from nltk.tokenize import word_tokenize\n",
    "from nltk.corpus import stopwords\n",
    "from nltk import ngrams\n",
    "from nltk.probability import ConditionalFreqDist\n",
    "from collections import Counter\n",
    "import string\n",
    "\n",
    "# Download required resources\n",
    "nltk.download('reuters')\n",
    "nltk.download('punkt')\n",
    "nltk.download('stopwords')\n",
    "\n",
    "# Load documents\n",
    "documents = [reuters.raw(fileid) for fileid in reuters.fileids()]\n",
    "\n",
    "# Preprocessing function\n",
    "stop_words = set(stopwords.words('english'))\n",
    "\n",
    "def preprocess(text):\n",
    "    text = text.lower()\n",
    "    tokens = word_tokenize(text)\n",
    "    tokens = [t for t in tokens if t.isalpha()]\n",
    "    tokens = [t for t in tokens if t not in stop_words]\n",
    "    return tokens\n",
    "\n",
    "# Apply preprocessing\n",
    "cleaned_docs = [preprocess(doc) for doc in documents]\n",
    "\n",
    "# Build n-grams (example: bigram)\n",
    "n = 2\n",
    "all_ngrams = []\n",
    "\n",
    "for tokens in cleaned_docs:\n",
    "    all_ngrams.extend(ngrams(tokens, n))\n",
    "\n",
    "# Frequency distribution\n",
    "freq_dist = Counter(all_ngrams)\n",
    "\n",
    "# Print top 10 most common n-grams\n",
    "for gram, freq in freq_dist.most_common(10):\n",
    "    print(f\"{gram}: {freq}\")\n",
    "\n",
    "# Conditional Frequency Distribution\n",
    "cfd = ConditionalFreqDist()\n",
    "for w1, w2 in all_ngrams:\n",
    "    cfd[w1][w2] += 1\n",
    "\n",
    "# Example: words that follow \"market\"\n",
    "print(\"\\nWords following 'market':\")\n",
    "print(cfd['market'].most_common(5))\n"
   ]
  }
 ],
 "metadata": {
  "kernelspec": {
   "display_name": "Python 3",
   "language": "python",
   "name": "python3"
  },
  "language_info": {
   "codemirror_mode": {
    "name": "ipython",
    "version": 3
   },
   "file_extension": ".py",
   "mimetype": "text/x-python",
   "name": "python",
   "nbconvert_exporter": "python",
   "pygments_lexer": "ipython3",
   "version": "3.13.3"
  }
 },
 "nbformat": 4,
 "nbformat_minor": 5
}
