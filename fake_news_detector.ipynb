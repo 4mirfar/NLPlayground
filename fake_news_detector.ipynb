{
 "cells": [
  {
   "cell_type": "markdown",
   "metadata": {},
   "source": [
    "# Fake News Detector"
   ]
  },
  {
   "cell_type": "code",
   "execution_count": null,
   "metadata": {},
   "outputs": [],
   "source": [
    "import pandas as pd\n",
    "import numpy as np\n",
    "import os\n",
    "import re\n"
   ]
  },
  {
   "cell_type": "code",
   "execution_count": null,
   "metadata": {},
   "outputs": [],
   "source": [
    "true_dataset = pd.read_csv('data/True.csv')\n",
    "fake_dataset = pd.read_csv('data/Fake.csv')"
   ]
  },
  {
   "cell_type": "code",
   "execution_count": null,
   "metadata": {},
   "outputs": [],
   "source": [
    "true_dataset"
   ]
  },
  {
   "cell_type": "code",
   "execution_count": null,
   "metadata": {},
   "outputs": [],
   "source": [
    "from hazm import word_tokenize, Normalizer\n",
    "\n",
    "normalizer = Normalizer()\n",
    "\n",
    "true_dataset['title'] = true_dataset.apply(lambda row: row['title'].lower(), axis=1)\n",
    "fake_dataset['title'] = fake_dataset.apply(lambda row: row['title'].lower(), axis=1)\n",
    "\n",
    "true_dataset['text'] = true_dataset.apply(lambda row: row['text'].lower(), axis=1)\n",
    "fake_dataset['text'] = fake_dataset.apply(lambda row: row['text'].lower(), axis=1)"
   ]
  },
  {
   "cell_type": "code",
   "execution_count": null,
   "metadata": {},
   "outputs": [],
   "source": [
    "true_dataset['text']"
   ]
  },
  {
   "cell_type": "code",
   "execution_count": null,
   "metadata": {},
   "outputs": [],
   "source": [
    "true_dataset['text'] = true_dataset.apply(lambda row: normalizer.normalize(row['text']), axis=1)\n",
    "\n",
    "true_dataset['title'] = true_dataset.apply(lambda row: normalizer.normalize(row['title']), axis=1)\n",
    "\n",
    "fake_dataset['text'] = fake_dataset.apply(lambda row: normalizer.normalize(row['text']), axis=1)\n",
    "\n",
    "fake_dataset['title'] = fake_dataset.apply(lambda row: normalizer.normalize(row['title']), axis=1)"
   ]
  },
  {
   "cell_type": "code",
   "execution_count": null,
   "metadata": {},
   "outputs": [],
   "source": [
    "# true_dataset.to_csv('data/TrueV1.csv', index=False)\n",
    "# fake_dataset.to_csv('data/FakeV1.csv', index=False)"
   ]
  },
  {
   "cell_type": "code",
   "execution_count": null,
   "metadata": {},
   "outputs": [],
   "source": [
    "true_dataset = pd.read_csv('data/TrueV1.csv')\n",
    "fake_dataset = pd.read_csv('data/FakeV1.csv')"
   ]
  },
  {
   "cell_type": "code",
   "execution_count": null,
   "metadata": {},
   "outputs": [],
   "source": [
    "true_dataset['text'] = true_dataset.apply(lambda row: word_tokenize(row['text']), axis=1)\n",
    "\n",
    "true_dataset['title'] = true_dataset.apply(lambda row: word_tokenize(row['title']), axis=1)\n",
    "\n",
    "fake_dataset['text'] = fake_dataset.apply(lambda row: word_tokenize(row['text']), axis=1)\n",
    "\n",
    "fake_dataset['title'] = fake_dataset.apply(lambda row: word_tokenize(row['title']), axis=1)"
   ]
  },
  {
   "cell_type": "code",
   "execution_count": 80,
   "metadata": {},
   "outputs": [],
   "source": [
    "def remove_numbers(text):\n",
    "    return str(re.sub(r'\\d+', '', text))\n",
    "\n",
    "def remove_urls(text):\n",
    "    return str(re.sub(r'http[s]?://\\S+|www\\.\\S+', '', text))"
   ]
  },
  {
   "cell_type": "markdown",
   "metadata": {},
   "source": [
    "### Remove num and url"
   ]
  },
  {
   "cell_type": "code",
   "execution_count": 92,
   "metadata": {},
   "outputs": [],
   "source": [
    "true_dataset['text'] = true_dataset.apply(lambda row: remove_numbers(remove_urls(str(row['text']))), axis=1)\n",
    "\n",
    "true_dataset['title'] = true_dataset.apply(lambda row: remove_numbers(remove_urls(str(row['title']))), axis=1)\n",
    "\n",
    "fake_dataset['text'] = fake_dataset.apply(lambda row: remove_numbers(remove_urls(str(row['text']))), axis=1)\n",
    "\n",
    "fake_dataset['title'] = fake_dataset.apply(lambda row: remove_numbers(remove_urls(str(row['title']))), axis=1)"
   ]
  },
  {
   "cell_type": "markdown",
   "metadata": {},
   "source": [
    "### Remove puncs"
   ]
  },
  {
   "cell_type": "code",
   "execution_count": 96,
   "metadata": {},
   "outputs": [],
   "source": [
    "true_dataset['text'] = true_dataset.apply(lambda row: re.sub(r'[^\\w\\s]', '', row[\"text\"]), axis=1)\n",
    "\n",
    "true_dataset['title'] = true_dataset.apply(lambda row: re.sub(r'[^\\w\\s]', '', row[\"title\"]), axis=1)\n",
    "\n",
    "fake_dataset['text'] = fake_dataset.apply(lambda row: re.sub(r'[^\\w\\s]', '', row[\"text\"]), axis=1)\n",
    "\n",
    "fake_dataset['title'] = fake_dataset.apply(lambda row: re.sub(r'[^\\w\\s]', '', row[\"title\"]), axis=1)"
   ]
  },
  {
   "cell_type": "code",
   "execution_count": 97,
   "metadata": {},
   "outputs": [
    {
     "data": {
      "text/html": [
       "<div>\n",
       "<style scoped>\n",
       "    .dataframe tbody tr th:only-of-type {\n",
       "        vertical-align: middle;\n",
       "    }\n",
       "\n",
       "    .dataframe tbody tr th {\n",
       "        vertical-align: top;\n",
       "    }\n",
       "\n",
       "    .dataframe thead th {\n",
       "        text-align: right;\n",
       "    }\n",
       "</style>\n",
       "<table border=\"1\" class=\"dataframe\">\n",
       "  <thead>\n",
       "    <tr style=\"text-align: right;\">\n",
       "      <th></th>\n",
       "      <th>title</th>\n",
       "      <th>text</th>\n",
       "      <th>subject</th>\n",
       "      <th>date</th>\n",
       "    </tr>\n",
       "  </thead>\n",
       "  <tbody>\n",
       "    <tr>\n",
       "      <th>0</th>\n",
       "      <td>donald trump sends out embarrassing new years ...</td>\n",
       "      <td>donald trump just couldn t wish all americans ...</td>\n",
       "      <td>News</td>\n",
       "      <td>December 31, 2017</td>\n",
       "    </tr>\n",
       "    <tr>\n",
       "      <th>1</th>\n",
       "      <td>drunk bragging trump staffer started russian c...</td>\n",
       "      <td>house intelligence committee chairman devin nu...</td>\n",
       "      <td>News</td>\n",
       "      <td>December 31, 2017</td>\n",
       "    </tr>\n",
       "    <tr>\n",
       "      <th>2</th>\n",
       "      <td>sheriff david clarke becomes an internet joke ...</td>\n",
       "      <td>on friday it was revealed that former milwauke...</td>\n",
       "      <td>News</td>\n",
       "      <td>December 30, 2017</td>\n",
       "    </tr>\n",
       "    <tr>\n",
       "      <th>3</th>\n",
       "      <td>trump is so obsessed he even has obamas name c...</td>\n",
       "      <td>on christmas day donald trump announced that h...</td>\n",
       "      <td>News</td>\n",
       "      <td>December 29, 2017</td>\n",
       "    </tr>\n",
       "    <tr>\n",
       "      <th>4</th>\n",
       "      <td>pope francis just called out donald trump duri...</td>\n",
       "      <td>pope francis used his annual christmas day mes...</td>\n",
       "      <td>News</td>\n",
       "      <td>December 25, 2017</td>\n",
       "    </tr>\n",
       "    <tr>\n",
       "      <th>...</th>\n",
       "      <td>...</td>\n",
       "      <td>...</td>\n",
       "      <td>...</td>\n",
       "      <td>...</td>\n",
       "    </tr>\n",
       "    <tr>\n",
       "      <th>23476</th>\n",
       "      <td>mcpain john mccain furious that iran treated u...</td>\n",
       "      <td>st century wire says as  wire reported earlie...</td>\n",
       "      <td>Middle-east</td>\n",
       "      <td>January 16, 2016</td>\n",
       "    </tr>\n",
       "    <tr>\n",
       "      <th>23477</th>\n",
       "      <td>justice  yahoo settles email privacy classacti...</td>\n",
       "      <td>st century wire says it s a familiar theme wh...</td>\n",
       "      <td>Middle-east</td>\n",
       "      <td>January 16, 2016</td>\n",
       "    </tr>\n",
       "    <tr>\n",
       "      <th>23478</th>\n",
       "      <td>sunnistan us and allied safe zone plan to take...</td>\n",
       "      <td>patrick henningsen  st century wireremember wh...</td>\n",
       "      <td>Middle-east</td>\n",
       "      <td>January 15, 2016</td>\n",
       "    </tr>\n",
       "    <tr>\n",
       "      <th>23479</th>\n",
       "      <td>how to blow   million al jazeera america final...</td>\n",
       "      <td>st century wire says al jazeera america will ...</td>\n",
       "      <td>Middle-east</td>\n",
       "      <td>January 14, 2016</td>\n",
       "    </tr>\n",
       "    <tr>\n",
       "      <th>23480</th>\n",
       "      <td>u s navy sailors held by iranian military  si...</td>\n",
       "      <td>st century wire says as  wire predicted in it...</td>\n",
       "      <td>Middle-east</td>\n",
       "      <td>January 12, 2016</td>\n",
       "    </tr>\n",
       "  </tbody>\n",
       "</table>\n",
       "<p>23481 rows × 4 columns</p>\n",
       "</div>"
      ],
      "text/plain": [
       "                                                   title  \\\n",
       "0      donald trump sends out embarrassing new years ...   \n",
       "1      drunk bragging trump staffer started russian c...   \n",
       "2      sheriff david clarke becomes an internet joke ...   \n",
       "3      trump is so obsessed he even has obamas name c...   \n",
       "4      pope francis just called out donald trump duri...   \n",
       "...                                                  ...   \n",
       "23476  mcpain john mccain furious that iran treated u...   \n",
       "23477  justice  yahoo settles email privacy classacti...   \n",
       "23478  sunnistan us and allied safe zone plan to take...   \n",
       "23479  how to blow   million al jazeera america final...   \n",
       "23480   u s navy sailors held by iranian military  si...   \n",
       "\n",
       "                                                    text      subject  \\\n",
       "0      donald trump just couldn t wish all americans ...         News   \n",
       "1      house intelligence committee chairman devin nu...         News   \n",
       "2      on friday it was revealed that former milwauke...         News   \n",
       "3      on christmas day donald trump announced that h...         News   \n",
       "4      pope francis used his annual christmas day mes...         News   \n",
       "...                                                  ...          ...   \n",
       "23476   st century wire says as  wire reported earlie...  Middle-east   \n",
       "23477   st century wire says it s a familiar theme wh...  Middle-east   \n",
       "23478  patrick henningsen  st century wireremember wh...  Middle-east   \n",
       "23479   st century wire says al jazeera america will ...  Middle-east   \n",
       "23480   st century wire says as  wire predicted in it...  Middle-east   \n",
       "\n",
       "                    date  \n",
       "0      December 31, 2017  \n",
       "1      December 31, 2017  \n",
       "2      December 30, 2017  \n",
       "3      December 29, 2017  \n",
       "4      December 25, 2017  \n",
       "...                  ...  \n",
       "23476   January 16, 2016  \n",
       "23477   January 16, 2016  \n",
       "23478   January 15, 2016  \n",
       "23479   January 14, 2016  \n",
       "23480   January 12, 2016  \n",
       "\n",
       "[23481 rows x 4 columns]"
      ]
     },
     "execution_count": 97,
     "metadata": {},
     "output_type": "execute_result"
    }
   ],
   "source": [
    "fake_dataset"
   ]
  },
  {
   "cell_type": "code",
   "execution_count": 98,
   "metadata": {},
   "outputs": [],
   "source": [
    "true_dataset.to_csv('data/TrueV2.csv', index=False)\n",
    "fake_dataset.to_csv('data/FakeV2.csv', index=False)"
   ]
  },
  {
   "cell_type": "code",
   "execution_count": null,
   "metadata": {},
   "outputs": [],
   "source": []
  }
 ],
 "metadata": {
  "kernelspec": {
   "display_name": "venv",
   "language": "python",
   "name": "python3"
  },
  "language_info": {
   "codemirror_mode": {
    "name": "ipython",
    "version": 3
   },
   "file_extension": ".py",
   "mimetype": "text/x-python",
   "name": "python",
   "nbconvert_exporter": "python",
   "pygments_lexer": "ipython3",
   "version": "3.11.5"
  }
 },
 "nbformat": 4,
 "nbformat_minor": 2
}
